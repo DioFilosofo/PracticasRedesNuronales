{
  "nbformat": 4,
  "nbformat_minor": 0,
  "metadata": {
    "colab": {
      "provenance": [],
      "authorship_tag": "ABX9TyOPbHWzfUprOW6oYnN1cpeH",
      "include_colab_link": true
    },
    "kernelspec": {
      "name": "python3",
      "display_name": "Python 3"
    },
    "language_info": {
      "name": "python"
    },
    "accelerator": "TPU",
    "gpuClass": "standard"
  },
  "cells": [
    {
      "cell_type": "markdown",
      "metadata": {
        "id": "view-in-github",
        "colab_type": "text"
      },
      "source": [
        "<a href=\"https://colab.research.google.com/github/DioFilosofo/DioFilosofo/blob/main/primera_red_neuronal.ipynb\" target=\"_parent\"><img src=\"https://colab.research.google.com/assets/colab-badge.svg\" alt=\"Open In Colab\"/></a>"
      ]
    },
    {
      "cell_type": "code",
      "execution_count": null,
      "metadata": {
        "id": "L1kdhjNT4GUl"
      },
      "outputs": [],
      "source": [
        "import tensorflow as tf\n",
        "import numpy as np"
      ]
    },
    {
      "cell_type": "code",
      "source": [
        "celsius=np.array([-40,-10,0,8,15,22,38],dtype=float)\n",
        "fahrenheit=np.array([-40,14,32,46,59,72,100],dtype=float)"
      ],
      "metadata": {
        "id": "ZXIA03rs4vXS"
      },
      "execution_count": null,
      "outputs": []
    },
    {
      "cell_type": "code",
      "source": [
        "#capa= tf.keras.layers.Dense(units=1,input_shape=[1])\n",
        "#modelo=tf.keras.Sequential([capa])\n",
        "\n",
        "oculta1=tf.keras.layers.Dense(units=3,input_shape=[1])\n",
        "oculta2=tf.keras.layers.Dense(units=3)\n",
        "salida=tf.keras.layers.Dense(units=1)\n",
        "modelo=tf.keras.Sequential([oculta1,oculta2,salida])"
      ],
      "metadata": {
        "id": "lfA9emaE5vpU"
      },
      "execution_count": null,
      "outputs": []
    },
    {
      "cell_type": "code",
      "source": [
        "modelo.compile(\n",
        "    optimizer=tf.keras.optimizers.Adam(0.1),\n",
        "    loss='mean_squared_error'\n",
        ")"
      ],
      "metadata": {
        "id": "w-hKQ_Dx6kem"
      },
      "execution_count": null,
      "outputs": []
    },
    {
      "cell_type": "code",
      "source": [
        "print('Comenzando entrenamiento...')\n",
        "historial=modelo.fit(celsius,fahrenheit, epochs=1000,verbose=False)\n",
        "print('Modelo entrenado!!')"
      ],
      "metadata": {
        "colab": {
          "base_uri": "https://localhost:8080/"
        },
        "id": "jPyraVni7QoK",
        "outputId": "7ba03fbe-7d4c-4174-b52e-132363c6dde1"
      },
      "execution_count": null,
      "outputs": [
        {
          "output_type": "stream",
          "name": "stdout",
          "text": [
            "Comenzando entrenamiento...\n",
            "Modelo entrenado!!\n"
          ]
        }
      ]
    },
    {
      "cell_type": "code",
      "source": [
        "#Resultado de la función de pérdida nos dice que tan mal están los resultados de la red en cada vuelta dada\n",
        "import matplotlib.pyplot as plt\n",
        "plt.xlabel('#Epoca')\n",
        "plt.ylabel('Magnitud de pérdida')\n",
        "plt.plot(historial.history['loss'])"
      ],
      "metadata": {
        "colab": {
          "base_uri": "https://localhost:8080/",
          "height": 470
        },
        "id": "8p40yIvI8jdB",
        "outputId": "bae28cc5-b27f-455e-823c-a3d5fbbe7f6e"
      },
      "execution_count": null,
      "outputs": [
        {
          "output_type": "execute_result",
          "data": {
            "text/plain": [
              "[<matplotlib.lines.Line2D at 0x7f15e4e5ba00>]"
            ]
          },
          "metadata": {},
          "execution_count": 14
        },
        {
          "output_type": "display_data",
          "data": {
            "text/plain": [
              "<Figure size 640x480 with 1 Axes>"
            ],
            "image/png": "[encoded data removed]"
          },
          "metadata": {}
        }
      ]
    },
    {
      "cell_type": "code",
      "source": [
        "print('Hagamos una predicción')\n",
        "resultado=modelo.predict([100])\n",
        "print(f'El resultado es {resultado} fahrenheit!!! ')"
      ],
      "metadata": {
        "colab": {
          "base_uri": "https://localhost:8080/"
        },
        "id": "RBiZC5PMMFM5",
        "outputId": "f12f3e9b-5be9-475e-ceb6-cbd63a18c963"
      },
      "execution_count": null,
      "outputs": [
        {
          "output_type": "stream",
          "name": "stdout",
          "text": [
            "Hagamos una predicción\n",
            "1/1 [==============================] - 0s 79ms/step\n",
            "El resultado es [[211.74745]] fahrenheit!!! \n"
          ]
        }
      ]
    },
    {
      "cell_type": "code",
      "source": [
        "print('Valores internos del modelo')\n",
        "print(capa.get_weights())"
      ],
      "metadata": {
        "colab": {
          "base_uri": "https://localhost:8080/"
        },
        "id": "QFoSwxISNSiu",
        "outputId": "16fda115-a6f0-4021-fe4e-50747b1ad08f"
      },
      "execution_count": null,
      "outputs": [
        {
          "output_type": "stream",
          "name": "stdout",
          "text": [
            "Valores internos del modelo\n",
            "[array([[1.7982302]], dtype=float32), array([31.919712], dtype=float32)]\n"
          ]
        }
      ]
    }
  ]
}